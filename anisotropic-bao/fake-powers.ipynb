{
 "cells": [
  {
   "cell_type": "code",
   "execution_count": null,
   "metadata": {},
   "outputs": [],
   "source": [
    "from classy import Class\n",
    "import matplotlib.pyplot as plt\n",
    "from scipy.interpolate import LSQUnivariateSpline\n",
    "from scipy.special import eval_legendre\n",
    "import numpy as np\n",
    "import os\n",
    "\n",
    "os.makedirs(\"xis\", exist_ok=True)"
   ]
  },
  {
   "cell_type": "code",
   "execution_count": null,
   "metadata": {},
   "outputs": [],
   "source": [
    "cosmo = Class()\n",
    "cosmo.set({\n",
    "    'omega_b':      0.02238,      # physical baryon density\n",
    "    'omega_cdm':    0.11600,      # physical cold dark matter density\n",
    "    'h':            0.68,         # reduced hubble parameter\n",
    "    'A_s':          2.1e-9,       # primordial scalar amplitude\n",
    "    'n_s':          0.97,         # scalar spectral index\n",
    "    'tau_reio':     0.054,        # reionization optical depth\n",
    "})\n",
    "cosmo.set({'output':'tCl,pCl,lCl,nCl,mPk','lensing':'yes','P_k_max_1/Mpc': 3.0, 'z_max_pk': 100})\n",
    "cosmo.compute()"
   ]
  },
  {
   "cell_type": "code",
   "execution_count": null,
   "metadata": {},
   "outputs": [],
   "source": [
    "kk = np.logspace(-4,np.log10(3),1000) # k in h/Mpc\n",
    "Pk = [] # P(k) in (Mpc/h)**3\n",
    "h = 0.68 # for conversions to 1/Mpc\n",
    "for k in kk:\n",
    "    Pk.append(cosmo.pk(k*h,0.)*h**3) # why isnt this working\n",
    "\n",
    "Pk = np.array(Pk)"
   ]
  },
  {
   "cell_type": "code",
   "execution_count": null,
   "metadata": {},
   "outputs": [],
   "source": [
    "r = np.linspace(1, 160, 400)  # r in Mpc/h; domain chosen mostly arbitrarily\n",
    "\n",
    "xi_rad = np.zeros_like(r)\n",
    "\n",
    "for i, ri in enumerate(r):\n",
    "    kr = kk * ri\n",
    "    # sin(kr)/(kr) = sinc(kr/pi)\n",
    "    \n",
    "    window = 0.5 * ( 1 - np.tanh( 2 * (kk - kk[-1] + 1.5) ) ) # Lepori et. al: \"...we introduced a cutoff W to smooth numerical spurious oscillations...\"\n",
    "    integrand = kk**2 * Pk * np.sinc(kr / np.pi) * window\n",
    "    xi_rad[i] = np.trapz(integrand, kk)\n",
    "\n",
    "xi_rad /= 2.0 * np.pi**2"
   ]
  },
  {
   "cell_type": "code",
   "execution_count": null,
   "metadata": {},
   "outputs": [],
   "source": [
    "xi_trans = np.zeros_like(r)\n",
    "\n",
    "for i, ri in enumerate(r):\n",
    "    kr = kk * ri\n",
    "    # sin(kr)/(kr) = sinc(kr/pi)\n",
    "    \n",
    "    window = 0.5 * ( 1 - np.tanh( 2 * (kk - kk[-1] + 1.5) ) ) # Lepori et. al: \"...we introduced a cutoff W to smooth numerical spurious oscillations...\"\n",
    "    legendre = eval_legendre(i, kr)\n",
    "    integrand = kk**2 * Pk * np.sinc(kr / np.pi) * window * legendre\n",
    "    xi_trans[i] = np.trapz(integrand, kk)\n",
    "\n",
    "xi_trans /= 2.0 * np.pi**2"
   ]
  },
  {
   "cell_type": "code",
   "execution_count": null,
   "metadata": {},
   "outputs": [],
   "source": [
    "np.savetext(\"xi/xi_rad.txt\", xi_rad)\n",
    "np.savetext(\"xi/xi_trans.txt\", xi_trans)"
   ]
  }
 ],
 "metadata": {
  "kernelspec": {
   "display_name": "Python 3.11.9 ('base')",
   "language": "python",
   "name": "python3"
  },
  "language_info": {
   "name": "python",
   "version": "3.11.9"
  },
  "orig_nbformat": 4,
  "vscode": {
   "interpreter": {
    "hash": "3a9a496037be0497c8da3994fbae446974feea6e1b78657c207bd44ffca24c29"
   }
  }
 },
 "nbformat": 4,
 "nbformat_minor": 2
}
